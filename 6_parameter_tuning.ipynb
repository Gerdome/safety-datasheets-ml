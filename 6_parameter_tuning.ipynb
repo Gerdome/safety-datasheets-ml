{
 "cells": [
  {
   "cell_type": "code",
   "execution_count": 1,
   "metadata": {},
   "outputs": [
    {
     "name": "stderr",
     "output_type": "stream",
     "text": [
      "/Users/adrian/coding/rtbda_seminar/rtbda_venv/lib/python3.7/site-packages/sklearn/externals/joblib/__init__.py:15: DeprecationWarning: sklearn.externals.joblib is deprecated in 0.21 and will be removed in 0.23. Please import this functionality directly from joblib, which can be installed with: pip install joblib. If this warning is raised when loading pickled models, you may need to re-serialize those models with scikit-learn 0.21+.\n",
      "  warnings.warn(msg, category=DeprecationWarning)\n"
     ]
    }
   ],
   "source": [
    "from sklearn.metrics import roc_curve, auc\n",
    "# Models\n",
    "from sklearn.svm import LinearSVC #SVC\n",
    "from sklearn.ensemble import RandomForestClassifier\n",
    "from sklearn.linear_model import SGDClassifier\n",
    "# Other Packages\n",
    "import pandas as pd\n",
    "import numpy as np\n",
    "from sklearn.metrics import classification_report, confusion_matrix\n",
    "from sklearn.model_selection import train_test_split\n",
    "from sklearn.impute import SimpleImputer\n",
    "from sklearn.externals import joblib\n",
    "import random\n",
    "from timeit import default_timer as timer\n",
    "import matplotlib.pyplot as plt\n",
    "import seaborn as sns\n",
    "from imblearn.over_sampling import SMOTE\n",
    "# Display settings\n",
    "pd.set_option('display.max_columns', None)\n",
    "pd.set_option('display.max_rows', 100)"
   ]
  },
  {
   "cell_type": "code",
   "execution_count": 2,
   "metadata": {},
   "outputs": [],
   "source": [
    "def prepare_data (data, sample_size):\n",
    "    # Create Dataframe of unique docs to use sample function from pandas with random state\n",
    "    docs = pd.DataFrame(data.doc.unique())\n",
    "    random_docs = docs[0].sample(n=sample_size, random_state=1).values.tolist()\n",
    "    data_sample = data[data['doc'].isin(random_docs)]\n",
    "    data_sample1 = data_sample.loc[:, 'doc':'chem']\n",
    "    data_sample2 = data_sample.loc[:, 'word.is.lower':data.iloc[:,-1].name]\n",
    "\n",
    "    # Replace missing values\n",
    "    data_sample2 = data_sample2.fillna(data_sample2.mode().iloc[0])\n",
    "    data_sample = pd.concat([data_sample1, data_sample2], axis=1, sort=False)\n",
    "\n",
    "    # Split random_docs in test and training sets\n",
    "    docs_train, docs_test = train_test_split(random_docs, random_state=1)\n",
    "\n",
    "    # Split random_data in test and training sets\n",
    "    train, test = data_sample[data_sample['doc'].isin(docs_train)], data_sample[data_sample['doc'].isin(docs_test)]\n",
    "    \n",
    "    return train, test"
   ]
  },
  {
   "cell_type": "code",
   "execution_count": 3,
   "metadata": {},
   "outputs": [],
   "source": [
    "def n_estimators (x_train, y_train):\n",
    "    n_estimators = [1, 2, 4, 8, 16, 32, 64, 100, 200]\n",
    "    train_results = []\n",
    "    test_results = []\n",
    "\n",
    "    for estimator in n_estimators:\n",
    "       rf = RandomForestClassifier(n_estimators=estimator, n_jobs=-1)\n",
    "       rf.fit(x_train, y_train)\n",
    "       train_pred = rf.predict(x_train)\n",
    "       false_positive_rate, true_positive_rate, thresholds = roc_curve(y_train, train_pred)\n",
    "       roc_auc = auc(false_positive_rate, true_positive_rate)\n",
    "       train_results.append(roc_auc)\n",
    "       y_pred = rf.predict(x_test)\n",
    "       false_positive_rate, true_positive_rate, thresholds = roc_curve(y_test, y_pred)\n",
    "       roc_auc = auc(false_positive_rate, true_positive_rate)\n",
    "       test_results.append(roc_auc)\n",
    "\n",
    "    from matplotlib.legend_handler import HandlerLine2D\n",
    "    line1, = plt.plot(n_estimators, train_results, 'b', label='Train AUC')\n",
    "    line2, = plt.plot(n_estimators, test_results, 'r', label='Test AUC')\n",
    "    plt.legend(handler_map={line1: HandlerLine2D(numpoints=2)})\n",
    "    plt.ylabel('AUC score')\n",
    "    plt.xlabel('n_estimators')\n",
    "    plt.show()"
   ]
  },
  {
   "cell_type": "code",
   "execution_count": 8,
   "metadata": {},
   "outputs": [],
   "source": [
    "labels = ['chapter', 'subchapter', 'version', 'directive', 'signal', 'company', 'date','date_oldversiondate', 'date_printdate', 'date_revisiondate', 'date_validdate', 'usecase', 'usecase_con', 'usecase_pro', 'chem']"
   ]
  },
  {
   "cell_type": "code",
   "execution_count": 9,
   "metadata": {},
   "outputs": [],
   "source": [
    "data = pd.read_pickle('data_model_allfeatw13_web3.pkl')"
   ]
  },
  {
   "cell_type": "code",
   "execution_count": null,
   "metadata": {},
   "outputs": [],
   "source": [
    "train, test = prepare_data(data, 500)\n",
    "colidx = data.columns.get_loc\n",
    "\n",
    "r_paper_w = np.r_[colidx('word.is.lower'):colidx('+6_word.is.stop')]\n",
    "r_own_w = np.r_[colidx('word.is.title'):colidx('+6_is.page.3')]\n",
    "r_own_date_spe_w = np.r_[colidx('word.is.print.date.trigger'):colidx('+6_word.is.oldversion.date.trigger')]\n",
    "r_own_date_full_w = np.r_[r_own_w, r_own_date_spe_w]\n",
    "r_web_w = np.r_[colidx('0'):colidx('299')]\n",
    "\n",
    "feat = ('Own+Paper+Wordembedding', np.r_[r_own_w, r_paper_w, r_web_w])\n",
    "# Separate random_data training/test split in features and labels\n",
    "x_train = train.iloc[:, feat[1]]\n",
    "x_test = test.iloc[:, feat[1]]"
   ]
  },
  {
   "cell_type": "code",
   "execution_count": null,
   "metadata": {},
   "outputs": [],
   "source": [
    "for l in labels:\n",
    "    y_train = train.loc[:, l]\n",
    "    y_test = test.loc[:, l]\n",
    "    \n",
    "    print ('************' + l + '************')\n",
    "    n_estimators(x_train, y_train)\n",
    "    "
   ]
  }
 ],
 "metadata": {
  "kernelspec": {
   "display_name": "rtbda_venv",
   "language": "python",
   "name": "rtbda_venv"
  },
  "language_info": {
   "codemirror_mode": {
    "name": "ipython",
    "version": 3
   },
   "file_extension": ".py",
   "mimetype": "text/x-python",
   "name": "python",
   "nbconvert_exporter": "python",
   "pygments_lexer": "ipython3",
   "version": "3.7.3"
  }
 },
 "nbformat": 4,
 "nbformat_minor": 2
}
